{
  "nbformat": 4,
  "nbformat_minor": 0,
  "metadata": {
    "colab": {
      "name": "RSA暗号をやってみた(動作確認済み).ipynb",
      "version": "0.3.2",
      "provenance": [],
      "collapsed_sections": [],
      "include_colab_link": true
    },
    "kernelspec": {
      "name": "python3",
      "display_name": "Python 3"
    }
  },
  "cells": [
    {
      "cell_type": "markdown",
      "metadata": {
        "id": "view-in-github",
        "colab_type": "text"
      },
      "source": [
        "<a href=\"https://colab.research.google.com/github/kuroneko913/lab/blob/master/RSA%E6%9A%97%E5%8F%B7%E3%82%92%E3%82%84%E3%81%A3%E3%81%A6%E3%81%BF%E3%81%9F(%E5%8B%95%E4%BD%9C%E7%A2%BA%E8%AA%8D%E6%B8%88%E3%81%BF).ipynb\" target=\"_parent\"><img src=\"https://colab.research.google.com/assets/colab-badge.svg\" alt=\"Open In Colab\"/></a>"
      ]
    },
    {
      "cell_type": "markdown",
      "metadata": {
        "id": "69zJoTPNMI90",
        "colab_type": "text"
      },
      "source": [
        "RSA暗号 を実装する"
      ]
    },
    {
      "cell_type": "code",
      "metadata": {
        "id": "NdMvtzUhhrru",
        "colab_type": "code",
        "colab": {}
      },
      "source": [
        "from numpy import random\n",
        "import math\n",
        "import base64"
      ],
      "execution_count": 0,
      "outputs": []
    },
    {
      "cell_type": "code",
      "metadata": {
        "id": "Da6R7mFY6PR4",
        "colab_type": "code",
        "colab": {}
      },
      "source": [
        "# ユークリッドの互除法により、最大公約数(GCD)を求める\n",
        "def euclid_r_gcd(a,b):\n",
        "  if (a>b):\n",
        "    n = a\n",
        "    m = b\n",
        "  else:\n",
        "    n = b\n",
        "    m = a\n",
        "  if (m==0): return n\n",
        "  else:\n",
        "    print(f'{n}%{m}:{n%m},{n}-{int(n/m)}*{m}={n%m}')\n",
        "    return euclid_r_gcd(m,n%m)"
      ],
      "execution_count": 0,
      "outputs": []
    },
    {
      "cell_type": "code",
      "metadata": {
        "id": "9PKuJ3rv1zSL",
        "colab_type": "code",
        "colab": {}
      },
      "source": [
        "# ax+by=gcd(a,b)となるx,y,gcd(a,b)を求める(拡張ユークリッドの互除法)\n",
        "def ext_euclid_gcd(z1,z2,x1=1,y1=0,x2=0,y2=1):\n",
        "  if z2==0: return x1,y1,z1\n",
        "  q = z1//z2\n",
        "  x = x1 - q * x2\n",
        "  y = y1 - q * y2\n",
        "  z = z1 - q * z2\n",
        "  return ext_euclid_gcd(z2,z,x2,y2,x,y)"
      ],
      "execution_count": 0,
      "outputs": []
    },
    {
      "cell_type": "code",
      "metadata": {
        "id": "2Q_sI8qpNcxb",
        "colab_type": "code",
        "colab": {}
      },
      "source": [
        "# a,bの最小公倍数はa*b/gcd(a,b)\n",
        "def lcm(a,b):\n",
        "  return a*b/ext_euclid_gcd(a,b)[-1]"
      ],
      "execution_count": 0,
      "outputs": []
    },
    {
      "cell_type": "code",
      "metadata": {
        "id": "yh4PFi3Uhghf",
        "colab_type": "code",
        "colab": {}
      },
      "source": [
        "# 素数判定法のアルゴリズム\n",
        "def is_prime(n:int)->bool:\n",
        "  limit = int(math.sqrt(n))+1\n",
        "  if n == 2: return True\n",
        "  if n==0 or n == 1 or n%2==0 : return False\n",
        "  for i in range(3,limit,2):\n",
        "    if n%i==0: return False\n",
        "  return True"
      ],
      "execution_count": 0,
      "outputs": []
    },
    {
      "cell_type": "code",
      "metadata": {
        "id": "J0RCj-Y8ZJBO",
        "colab_type": "code",
        "outputId": "73dc267e-5b0e-44ac-fa04-556ab6a5cf5c",
        "colab": {
          "base_uri": "https://localhost:8080/",
          "height": 84
        }
      },
      "source": [
        "euclid_r_gcd(7,5)"
      ],
      "execution_count": 6,
      "outputs": [
        {
          "output_type": "stream",
          "text": [
            "7%5:2,7-1*5=2\n",
            "5%2:1,5-2*2=1\n",
            "2%1:0,2-2*1=0\n"
          ],
          "name": "stdout"
        },
        {
          "output_type": "execute_result",
          "data": {
            "text/plain": [
              "1"
            ]
          },
          "metadata": {
            "tags": []
          },
          "execution_count": 6
        }
      ]
    },
    {
      "cell_type": "code",
      "metadata": {
        "id": "FXSmMa36rUGC",
        "colab_type": "code",
        "colab": {
          "base_uri": "https://localhost:8080/",
          "height": 34
        },
        "outputId": "c7e8520e-f09e-4ec0-ffb3-1a972669d089"
      },
      "source": [
        "ext_euclid_gcd(7,5)"
      ],
      "execution_count": 9,
      "outputs": [
        {
          "output_type": "execute_result",
          "data": {
            "text/plain": [
              "(-2, 3, 1)"
            ]
          },
          "metadata": {
            "tags": []
          },
          "execution_count": 9
        }
      ]
    },
    {
      "cell_type": "code",
      "metadata": {
        "id": "rdVUguyHNEqR",
        "colab_type": "code",
        "outputId": "b1384f3d-d27d-4ed0-b84d-d2b3c9754646",
        "colab": {
          "base_uri": "https://localhost:8080/",
          "height": 34
        }
      },
      "source": [
        "ext_euclid_gcd(84,11)"
      ],
      "execution_count": 10,
      "outputs": [
        {
          "output_type": "execute_result",
          "data": {
            "text/plain": [
              "(-3, 23, 1)"
            ]
          },
          "metadata": {
            "tags": []
          },
          "execution_count": 10
        }
      ]
    },
    {
      "cell_type": "code",
      "metadata": {
        "id": "SgH5JMZDbJWy",
        "colab_type": "code",
        "outputId": "07518bc3-560c-41bf-e225-3df1b3e81c7c",
        "colab": {
          "base_uri": "https://localhost:8080/",
          "height": 50
        }
      },
      "source": [
        "print(lcm(5,32))\n",
        "print(ext_euclid_gcd(5,32))"
      ],
      "execution_count": 11,
      "outputs": [
        {
          "output_type": "stream",
          "text": [
            "160.0\n",
            "(13, -2, 1)\n"
          ],
          "name": "stdout"
        }
      ]
    },
    {
      "cell_type": "markdown",
      "metadata": {
        "id": "j4g6VSNmfHnS",
        "colab_type": "text"
      },
      "source": [
        "公開鍵と秘密鍵を生成する"
      ]
    },
    {
      "cell_type": "code",
      "metadata": {
        "id": "VlGlDE2BfWu0",
        "colab_type": "code",
        "outputId": "f51e65bf-8693-424b-9a0c-42228ec3c5f3",
        "colab": {
          "base_uri": "https://localhost:8080/",
          "height": 319
        }
      },
      "source": [
        "# 巨大な素数の組の生成\n",
        "gcd = 10\n",
        "num_length = 14 # 計算精度の問題か、20以上だとうまく復号化できないことがある\n",
        "prime_p = False\n",
        "prime_q = False\n",
        "count = 0\n",
        "while (gcd !=1 or prime_p is False or prime_q is False):\n",
        "  count += 1\n",
        "  print(f'try count:{count}')\n",
        "  if (prime_p is False ): \n",
        "    p = random.randint(2**num_length/2)\n",
        "    prime_p = is_prime(p)\n",
        "  if (prime_q is False): \n",
        "    q = random.randint(2**num_length/2)\n",
        "    prime_q = is_prime(q)\n",
        "  gcd = ext_euclid_gcd(p,q)[-1]\n",
        "  "
      ],
      "execution_count": 12,
      "outputs": [
        {
          "output_type": "stream",
          "text": [
            "try count:1\n",
            "try count:2\n",
            "try count:3\n",
            "try count:4\n",
            "try count:5\n",
            "try count:6\n",
            "try count:7\n",
            "try count:8\n",
            "try count:9\n",
            "try count:10\n",
            "try count:11\n",
            "try count:12\n",
            "try count:13\n",
            "try count:14\n",
            "try count:15\n",
            "try count:16\n",
            "try count:17\n",
            "try count:18\n"
          ],
          "name": "stdout"
        }
      ]
    },
    {
      "cell_type": "code",
      "metadata": {
        "id": "DHpZ_zelfNW5",
        "colab_type": "code",
        "outputId": "eae624cf-1968-4e8d-a6c7-11ac01483c7a",
        "colab": {
          "base_uri": "https://localhost:8080/",
          "height": 34
        }
      },
      "source": [
        "# 公開鍵\n",
        "e = 65537\n",
        "n = p*q\n",
        "print(e,n)"
      ],
      "execution_count": 13,
      "outputs": [
        {
          "output_type": "stream",
          "text": [
            "65537 22965119\n"
          ],
          "name": "stdout"
        }
      ]
    },
    {
      "cell_type": "code",
      "metadata": {
        "id": "tRksROh0wplV",
        "colab_type": "code",
        "outputId": "69fcb3a2-f3bc-4f84-ffc6-d0f4fb617ea2",
        "colab": {
          "base_uri": "https://localhost:8080/",
          "height": 50
        }
      },
      "source": [
        "print(p,q)\n",
        "is_prime(q)"
      ],
      "execution_count": 14,
      "outputs": [
        {
          "output_type": "stream",
          "text": [
            "5669 4051\n"
          ],
          "name": "stdout"
        },
        {
          "output_type": "execute_result",
          "data": {
            "text/plain": [
              "True"
            ]
          },
          "metadata": {
            "tags": []
          },
          "execution_count": 14
        }
      ]
    },
    {
      "cell_type": "code",
      "metadata": {
        "id": "dAbmV3D3nvOC",
        "colab_type": "code",
        "outputId": "d45c0039-f780-4910-f064-ad6672b5c3cb",
        "colab": {
          "base_uri": "https://localhost:8080/",
          "height": 34
        }
      },
      "source": [
        "# 秘密鍵を生成する\n",
        "phi_m = lcm(p-1,q-1)\n",
        "ext_euclid_gcd_result = ext_euclid_gcd(e,phi_m)\n",
        "d = abs(int(ext_euclid_gcd_result[0]))\n",
        "print(abs(d))"
      ],
      "execution_count": 15,
      "outputs": [
        {
          "output_type": "stream",
          "text": [
            "2595473\n"
          ],
          "name": "stdout"
        }
      ]
    },
    {
      "cell_type": "code",
      "metadata": {
        "id": "ExCj_0WfooW4",
        "colab_type": "code",
        "colab": {}
      },
      "source": [
        "# 暗号化 & 復号化\n",
        "plain_text = 'Hello,RSA!'\n",
        "ord_plain_text = list(map(ord,plain_text))\n",
        "encode = lambda x,e,n: list(map(lambda value: pow(value,e,n),x))"
      ],
      "execution_count": 0,
      "outputs": []
    },
    {
      "cell_type": "code",
      "metadata": {
        "id": "lasIKBz3qGoQ",
        "colab_type": "code",
        "outputId": "b09b6bd5-10af-4dec-9aa2-e4a7fdb2ba3a",
        "colab": {
          "base_uri": "https://localhost:8080/",
          "height": 50
        }
      },
      "source": [
        "# 暗号化\n",
        "print(ord_plain_text)\n",
        "codes = encode(ord_plain_text,e,n)\n",
        "print(codes)"
      ],
      "execution_count": 17,
      "outputs": [
        {
          "output_type": "stream",
          "text": [
            "[72, 101, 108, 108, 111, 44, 82, 83, 65, 33]\n",
            "[9821214, 21072138, 6971869, 6971869, 6572834, 4465620, 11496652, 6076682, 19298445, 13912503]\n"
          ],
          "name": "stdout"
        }
      ]
    },
    {
      "cell_type": "code",
      "metadata": {
        "id": "LNAOLSYp-Ek4",
        "colab_type": "code",
        "outputId": "416b9053-09bc-462c-99df-8455cf49061f",
        "colab": {
          "base_uri": "https://localhost:8080/",
          "height": 50
        }
      },
      "source": [
        "# 復号化\n",
        "decodes = encode(codes, d, n)\n",
        "print(decodes)\n",
        "print(''.join(list(map(chr,decodes))))"
      ],
      "execution_count": 18,
      "outputs": [
        {
          "output_type": "stream",
          "text": [
            "[72, 101, 108, 108, 111, 44, 82, 83, 65, 33]\n",
            "Hello,RSA!\n"
          ],
          "name": "stdout"
        }
      ]
    },
    {
      "cell_type": "code",
      "metadata": {
        "id": "R9kzVcyQ__i_",
        "colab_type": "code",
        "outputId": "5ea0bfdf-587d-4ee0-876b-9eed664a8ac8",
        "colab": {
          "base_uri": "https://localhost:8080/",
          "height": 54
        }
      },
      "source": [
        "# デジタル署名もやってみる\n",
        "m = \"This messsage is written by myblackcat7112 2019.08.29 08:50 \"\n",
        "ord_m = list(map(ord,m))\n",
        "print(ord_m)"
      ],
      "execution_count": 19,
      "outputs": [
        {
          "output_type": "stream",
          "text": [
            "[84, 104, 105, 115, 32, 109, 101, 115, 115, 115, 97, 103, 101, 32, 105, 115, 32, 119, 114, 105, 116, 116, 101, 110, 32, 98, 121, 32, 109, 121, 98, 108, 97, 99, 107, 99, 97, 116, 55, 49, 49, 50, 32, 50, 48, 49, 57, 46, 48, 56, 46, 50, 57, 32, 48, 56, 58, 53, 48, 32]\n"
          ],
          "name": "stdout"
        }
      ]
    },
    {
      "cell_type": "code",
      "metadata": {
        "id": "gw3-YG_SB2TG",
        "colab_type": "code",
        "outputId": "e3e9b424-4645-4247-f1bc-6e359d3fa81a",
        "colab": {
          "base_uri": "https://localhost:8080/",
          "height": 54
        }
      },
      "source": [
        "# 自分の持っている秘密鍵で暗号化\n",
        "encoded_message = encode(ord_m,d,n)\n",
        "print(' '.join(map(str,encoded_message)))"
      ],
      "execution_count": 20,
      "outputs": [
        {
          "output_type": "stream",
          "text": [
            "922598 10179898 17318198 990985 12809622 6260581 1120419 990985 990985 990985 392818 14416348 1120419 12809622 17318198 990985 12809622 10418436 3964669 17318198 15090455 15090455 1120419 4436864 12809622 6518167 3143990 12809622 6260581 3143990 6518167 16188935 392818 538330 1070615 538330 392818 15090455 1579865 631524 631524 8725313 12809622 8725313 2674557 631524 9245371 19241437 2674557 10494576 19241437 8725313 9245371 12809622 2674557 10494576 12394140 21780922 2674557 12809622\n"
          ],
          "name": "stdout"
        }
      ]
    },
    {
      "cell_type": "code",
      "metadata": {
        "id": "K-DCcB1tCIF3",
        "colab_type": "code",
        "outputId": "78bff656-055f-493f-c49b-6d59cdb3ce98",
        "colab": {
          "base_uri": "https://localhost:8080/",
          "height": 34
        }
      },
      "source": [
        "# 公開鍵で復号するとメッセージが読める\n",
        "decoded_message = encode(encoded_message,e,n)\n",
        "print(''.join(list(map(chr,decoded_message))))"
      ],
      "execution_count": 21,
      "outputs": [
        {
          "output_type": "stream",
          "text": [
            "This messsage is written by myblackcat7112 2019.08.29 08:50 \n"
          ],
          "name": "stdout"
        }
      ]
    },
    {
      "cell_type": "code",
      "metadata": {
        "id": "JIskbs2XEEVi",
        "colab_type": "code",
        "outputId": "c9c3eec8-3ec2-4bd3-95a5-1fdd1e3c9f92",
        "colab": {
          "base_uri": "https://localhost:8080/",
          "height": 34
        }
      },
      "source": [
        "e,n"
      ],
      "execution_count": 22,
      "outputs": [
        {
          "output_type": "execute_result",
          "data": {
            "text/plain": [
              "(65537, 22965119)"
            ]
          },
          "metadata": {
            "tags": []
          },
          "execution_count": 22
        }
      ]
    },
    {
      "cell_type": "code",
      "metadata": {
        "id": "6zVs0Ac5O0wj",
        "colab_type": "code",
        "outputId": "d6f6c322-3308-4fd2-e207-26ab178278d9",
        "colab": {
          "base_uri": "https://localhost:8080/",
          "height": 168
        }
      },
      "source": [
        "# せっかくなので、base64に変換して、それっぽくする\n",
        "str_message = ' '.join(map(str,encoded_message)).encode('utf-8')\n",
        "base64_coded = base64.b64encode(str_message)\n",
        "v_ = ''\n",
        "v__ = []\n",
        "for v in base64_coded:\n",
        "  if (len(v_)==76):\n",
        "    v__.append(v_)\n",
        "    v_ =''\n",
        "  v_ += chr(v)\n",
        "v__.append(v_)\n",
        "\n",
        "# base64で表示\n",
        "for v in v__:\n",
        "  print(v)"
      ],
      "execution_count": 23,
      "outputs": [
        {
          "output_type": "stream",
          "text": [
            "OTIyNTk4IDEwMTc5ODk4IDE3MzE4MTk4IDk5MDk4NSAxMjgwOTYyMiA2MjYwNTgxIDExMjA0MTkg\n",
            "OTkwOTg1IDk5MDk4NSA5OTA5ODUgMzkyODE4IDE0NDE2MzQ4IDExMjA0MTkgMTI4MDk2MjIgMTcz\n",
            "MTgxOTggOTkwOTg1IDEyODA5NjIyIDEwNDE4NDM2IDM5NjQ2NjkgMTczMTgxOTggMTUwOTA0NTUg\n",
            "MTUwOTA0NTUgMTEyMDQxOSA0NDM2ODY0IDEyODA5NjIyIDY1MTgxNjcgMzE0Mzk5MCAxMjgwOTYy\n",
            "MiA2MjYwNTgxIDMxNDM5OTAgNjUxODE2NyAxNjE4ODkzNSAzOTI4MTggNTM4MzMwIDEwNzA2MTUg\n",
            "NTM4MzMwIDM5MjgxOCAxNTA5MDQ1NSAxNTc5ODY1IDYzMTUyNCA2MzE1MjQgODcyNTMxMyAxMjgw\n",
            "OTYyMiA4NzI1MzEzIDI2NzQ1NTcgNjMxNTI0IDkyNDUzNzEgMTkyNDE0MzcgMjY3NDU1NyAxMDQ5\n",
            "NDU3NiAxOTI0MTQzNyA4NzI1MzEzIDkyNDUzNzEgMTI4MDk2MjIgMjY3NDU1NyAxMDQ5NDU3NiAx\n",
            "MjM5NDE0MCAyMTc4MDkyMiAyNjc0NTU3IDEyODA5NjIy\n"
          ],
          "name": "stdout"
        }
      ]
    },
    {
      "cell_type": "code",
      "metadata": {
        "id": "6IepI39DbVna",
        "colab_type": "code",
        "outputId": "c7c6289e-3aea-4a79-bbf6-b9a10b555bab",
        "colab": {
          "base_uri": "https://localhost:8080/",
          "height": 34
        }
      },
      "source": [
        "# base64をdecodeしてから、デジタル署名メッセージが復元されることを確認\n",
        "sign_message=''.join(v__)\n",
        "base64_decoded_codes = map(int,base64.b64decode(sign_message).decode('utf-8').split(' '))\n",
        "# メッセージと公開鍵さえあれば、復元できる！\n",
        "print(''.join(map(chr,encode(base64_decoded_codes,e,n))))"
      ],
      "execution_count": 24,
      "outputs": [
        {
          "output_type": "stream",
          "text": [
            "This messsage is written by myblackcat7112 2019.08.29 08:50 \n"
          ],
          "name": "stdout"
        }
      ]
    }
  ]
}