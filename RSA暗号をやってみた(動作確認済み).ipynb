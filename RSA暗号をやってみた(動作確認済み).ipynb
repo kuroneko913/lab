{
  "nbformat": 4,
  "nbformat_minor": 0,
  "metadata": {
    "colab": {
      "name": "RSA暗号をやってみた(動作確認済み).ipynb",
      "version": "0.3.2",
      "provenance": [],
      "collapsed_sections": [],
      "include_colab_link": true
    },
    "kernelspec": {
      "name": "python3",
      "display_name": "Python 3"
    }
  },
  "cells": [
    {
      "cell_type": "markdown",
      "metadata": {
        "id": "view-in-github",
        "colab_type": "text"
      },
      "source": [
        "<a href=\"https://colab.research.google.com/github/kuroneko913/lab/blob/master/RSA%E6%9A%97%E5%8F%B7%E3%82%92%E3%82%84%E3%81%A3%E3%81%A6%E3%81%BF%E3%81%9F(%E5%8B%95%E4%BD%9C%E7%A2%BA%E8%AA%8D%E6%B8%88%E3%81%BF).ipynb\" target=\"_parent\"><img src=\"https://colab.research.google.com/assets/colab-badge.svg\" alt=\"Open In Colab\"/></a>"
      ]
    },
    {
      "cell_type": "markdown",
      "metadata": {
        "id": "69zJoTPNMI90",
        "colab_type": "text"
      },
      "source": [
        "RSA暗号 を実装する"
      ]
    },
    {
      "cell_type": "code",
      "metadata": {
        "id": "NdMvtzUhhrru",
        "colab_type": "code",
        "colab": {}
      },
      "source": [
        "from numpy import random\n",
        "import math\n",
        "import base64"
      ],
      "execution_count": 0,
      "outputs": []
    },
    {
      "cell_type": "code",
      "metadata": {
        "id": "9PKuJ3rv1zSL",
        "colab_type": "code",
        "colab": {}
      },
      "source": [
        "# ax+by=gcd(a,b)となるx,y,gcd(a,b)を求める(拡張ユークリッドの互除法)\n",
        "def ext_euclid_gcd(z1,z2,x1=1,y1=0,x2=0,y2=1):\n",
        "  if z2==0: return x1,y1,z1\n",
        "  q = z1//z2\n",
        "  x = x1 - q * x2\n",
        "  y = y1 - q * y2\n",
        "  z = z1 - q * z2\n",
        "  return ext_euclid_gcd(z2,z,x2,y2,x,y)"
      ],
      "execution_count": 0,
      "outputs": []
    },
    {
      "cell_type": "code",
      "metadata": {
        "id": "2Q_sI8qpNcxb",
        "colab_type": "code",
        "colab": {}
      },
      "source": [
        "# a,bの最小公倍数はa*b/gcd(a,b)\n",
        "def lcm(a,b):\n",
        "  return a*b/ext_euclid_gcd(a,b)[-1]"
      ],
      "execution_count": 0,
      "outputs": []
    },
    {
      "cell_type": "code",
      "metadata": {
        "id": "yh4PFi3Uhghf",
        "colab_type": "code",
        "colab": {}
      },
      "source": [
        "# 素数判定法のアルゴリズム\n",
        "def is_prime(n:int)->bool:\n",
        "  limit = int(math.sqrt(n))+1\n",
        "  if n == 2: return True\n",
        "  if n==0 or n == 1 or n%2==0 : return False\n",
        "  for i in range(3,limit,2):\n",
        "    if n%i==0: return False\n",
        "  return True"
      ],
      "execution_count": 0,
      "outputs": []
    },
    {
      "cell_type": "code",
      "metadata": {
        "id": "Da6R7mFY6PR4",
        "colab_type": "code",
        "colab": {}
      },
      "source": [
        "# ユークリッドの互除法により、最大公約数(GCD)を求める\n",
        "def euclid_r_gcd(a,b):\n",
        "  if (a>b):\n",
        "    n = a\n",
        "    m = b\n",
        "  else:\n",
        "    n = b\n",
        "    m = a\n",
        "  if (m==0): return n\n",
        "  else:\n",
        "    print(f'{n}%{m}:{n%m},{n}-{int(n/m)}*{m}={n%m}')\n",
        "    return euclid_r_gcd(m,n%m)"
      ],
      "execution_count": 0,
      "outputs": []
    },
    {
      "cell_type": "code",
      "metadata": {
        "id": "J0RCj-Y8ZJBO",
        "colab_type": "code",
        "outputId": "7e5357f0-2620-40dc-ba6b-d05562c6d8e8",
        "colab": {
          "base_uri": "https://localhost:8080/",
          "height": 84
        }
      },
      "source": [
        "euclid_r_gcd(7,5)"
      ],
      "execution_count": 7,
      "outputs": [
        {
          "output_type": "stream",
          "text": [
            "7%5:2,7-1*5=2\n",
            "5%2:1,5-2*2=1\n",
            "2%1:0,2-2*1=0\n"
          ],
          "name": "stdout"
        },
        {
          "output_type": "execute_result",
          "data": {
            "text/plain": [
              "1"
            ]
          },
          "metadata": {
            "tags": []
          },
          "execution_count": 7
        }
      ]
    },
    {
      "cell_type": "code",
      "metadata": {
        "id": "rdVUguyHNEqR",
        "colab_type": "code",
        "outputId": "958437a5-ea17-46c8-8686-5915861fc089",
        "colab": {
          "base_uri": "https://localhost:8080/",
          "height": 34
        }
      },
      "source": [
        "ext_euclid_gcd(84,11)"
      ],
      "execution_count": 8,
      "outputs": [
        {
          "output_type": "execute_result",
          "data": {
            "text/plain": [
              "(-3, 23, 1)"
            ]
          },
          "metadata": {
            "tags": []
          },
          "execution_count": 8
        }
      ]
    },
    {
      "cell_type": "code",
      "metadata": {
        "id": "SgH5JMZDbJWy",
        "colab_type": "code",
        "outputId": "2e307027-05a9-4cd6-c8d8-832d6274ed8f",
        "colab": {
          "base_uri": "https://localhost:8080/",
          "height": 50
        }
      },
      "source": [
        "print(lcm(5,32))\n",
        "print(ext_euclid_gcd(5,32))"
      ],
      "execution_count": 9,
      "outputs": [
        {
          "output_type": "stream",
          "text": [
            "160.0\n",
            "(13, -2, 1)\n"
          ],
          "name": "stdout"
        }
      ]
    },
    {
      "cell_type": "markdown",
      "metadata": {
        "id": "j4g6VSNmfHnS",
        "colab_type": "text"
      },
      "source": [
        "公開鍵と秘密鍵を生成する"
      ]
    },
    {
      "cell_type": "code",
      "metadata": {
        "id": "VlGlDE2BfWu0",
        "colab_type": "code",
        "outputId": "dc9f57e0-0387-4bdf-f446-7026d87e4bf9",
        "colab": {
          "base_uri": "https://localhost:8080/",
          "height": 34
        }
      },
      "source": [
        "# 巨大な素数の組の生成\n",
        "gcd = 10\n",
        "num_length = 14 # 計算精度の問題か、20以上だとうまく復号化できないことがある\n",
        "prime_p = False\n",
        "prime_q = False\n",
        "count = 0\n",
        "while (gcd !=1 or prime_p is False or prime_q is False):\n",
        "  count += 1\n",
        "  print(f'try count:{count}')\n",
        "  if (prime_p is False ): \n",
        "    p = random.randint(2**num_length/2)\n",
        "    prime_p = is_prime(p)\n",
        "  if (prime_q is False): \n",
        "    q = random.randint(2**num_length/2)\n",
        "    prime_q = is_prime(q)\n",
        "  gcd = ext_euclid_gcd(p,q)[-1]\n",
        "  "
      ],
      "execution_count": 24,
      "outputs": [
        {
          "output_type": "stream",
          "text": [
            "try count:1\n"
          ],
          "name": "stdout"
        }
      ]
    },
    {
      "cell_type": "code",
      "metadata": {
        "id": "DHpZ_zelfNW5",
        "colab_type": "code",
        "outputId": "584a9af5-d7f7-40d6-a01c-e59665c8179e",
        "colab": {
          "base_uri": "https://localhost:8080/",
          "height": 34
        }
      },
      "source": [
        "# 公開鍵\n",
        "e = 65537\n",
        "n = p*q\n",
        "print(e,n)"
      ],
      "execution_count": 25,
      "outputs": [
        {
          "output_type": "stream",
          "text": [
            "65537 51271247\n"
          ],
          "name": "stdout"
        }
      ]
    },
    {
      "cell_type": "code",
      "metadata": {
        "id": "tRksROh0wplV",
        "colab_type": "code",
        "outputId": "cf0ea18e-d46a-4c12-b34e-dbc267575efa",
        "colab": {
          "base_uri": "https://localhost:8080/",
          "height": 50
        }
      },
      "source": [
        "print(p,q)\n",
        "is_prime(q)"
      ],
      "execution_count": 26,
      "outputs": [
        {
          "output_type": "stream",
          "text": [
            "6703 7649\n"
          ],
          "name": "stdout"
        },
        {
          "output_type": "execute_result",
          "data": {
            "text/plain": [
              "True"
            ]
          },
          "metadata": {
            "tags": []
          },
          "execution_count": 26
        }
      ]
    },
    {
      "cell_type": "code",
      "metadata": {
        "id": "dAbmV3D3nvOC",
        "colab_type": "code",
        "outputId": "0af0e619-a4cf-48d2-b0b5-561c76a7f637",
        "colab": {
          "base_uri": "https://localhost:8080/",
          "height": 34
        }
      },
      "source": [
        "# 秘密鍵を生成する\n",
        "phi_m = lcm(p-1,q-1)\n",
        "ext_euclid_gcd_result = ext_euclid_gcd(e,phi_m)\n",
        "d = abs(int(ext_euclid_gcd_result[0]))\n",
        "print(abs(d))"
      ],
      "execution_count": 27,
      "outputs": [
        {
          "output_type": "stream",
          "text": [
            "8216417\n"
          ],
          "name": "stdout"
        }
      ]
    },
    {
      "cell_type": "code",
      "metadata": {
        "id": "ExCj_0WfooW4",
        "colab_type": "code",
        "colab": {}
      },
      "source": [
        "# 暗号化 & 復号化\n",
        "plain_text = 'Hello,RSA!'\n",
        "ord_plain_text = list(map(ord,plain_text))\n",
        "encode = lambda x,e,n: list(map(lambda value: pow(value,e,n),x))"
      ],
      "execution_count": 0,
      "outputs": []
    },
    {
      "cell_type": "code",
      "metadata": {
        "id": "lasIKBz3qGoQ",
        "colab_type": "code",
        "outputId": "1432ccc2-cec1-4c86-b3ad-521cd4cfbba5",
        "colab": {
          "base_uri": "https://localhost:8080/",
          "height": 50
        }
      },
      "source": [
        "# 暗号化\n",
        "print(ord_plain_text)\n",
        "codes = encode(ord_plain_text,e,n)\n",
        "#print(''.join(list(map(chr,codes))))\n",
        "print(codes)"
      ],
      "execution_count": 29,
      "outputs": [
        {
          "output_type": "stream",
          "text": [
            "[72, 101, 108, 108, 111, 44, 82, 83, 65, 33]\n",
            "[13044257, 28656678, 38375306, 38375306, 36754685, 21387370, 4868034, 9640745, 47387616, 46032559]\n"
          ],
          "name": "stdout"
        }
      ]
    },
    {
      "cell_type": "code",
      "metadata": {
        "id": "LNAOLSYp-Ek4",
        "colab_type": "code",
        "outputId": "b990d5db-10e6-4f59-f0e7-4bf02e468a1f",
        "colab": {
          "base_uri": "https://localhost:8080/",
          "height": 50
        }
      },
      "source": [
        "# 復号化\n",
        "decodes = encode(codes, d, n)\n",
        "#print(''.join(list(map(chr,decodes))))\n",
        "print(decodes)\n",
        "print(''.join(list(map(chr,decodes))))"
      ],
      "execution_count": 30,
      "outputs": [
        {
          "output_type": "stream",
          "text": [
            "[72, 101, 108, 108, 111, 44, 82, 83, 65, 33]\n",
            "Hello,RSA!\n"
          ],
          "name": "stdout"
        }
      ]
    },
    {
      "cell_type": "code",
      "metadata": {
        "id": "R9kzVcyQ__i_",
        "colab_type": "code",
        "outputId": "1b3a4d8c-d917-4212-c2f0-8cc2c31740c6",
        "colab": {
          "base_uri": "https://localhost:8080/",
          "height": 54
        }
      },
      "source": [
        "# デジタル署名もやってみる\n",
        "m = \"This messsage is written by myblackcat7112 2019.08.29 08:50 \"\n",
        "ord_m = list(map(ord,m))\n",
        "print(ord_m)"
      ],
      "execution_count": 31,
      "outputs": [
        {
          "output_type": "stream",
          "text": [
            "[84, 104, 105, 115, 32, 109, 101, 115, 115, 115, 97, 103, 101, 32, 105, 115, 32, 119, 114, 105, 116, 116, 101, 110, 32, 98, 121, 32, 109, 121, 98, 108, 97, 99, 107, 99, 97, 116, 55, 49, 49, 50, 32, 50, 48, 49, 57, 46, 48, 56, 46, 50, 57, 32, 48, 56, 58, 53, 48, 32]\n"
          ],
          "name": "stdout"
        }
      ]
    },
    {
      "cell_type": "code",
      "metadata": {
        "id": "gw3-YG_SB2TG",
        "colab_type": "code",
        "outputId": "d1f41bc2-001e-4c59-80c7-5d9a8da505b0",
        "colab": {
          "base_uri": "https://localhost:8080/",
          "height": 54
        }
      },
      "source": [
        "# 自分の持っている秘密鍵で暗号化\n",
        "encoded_message = encode(ord_m,d,n)\n",
        "print(' '.join(map(str,encoded_message)))"
      ],
      "execution_count": 32,
      "outputs": [
        {
          "output_type": "stream",
          "text": [
            "45196586 5891317 42966743 43087734 20177486 13821140 10002532 43087734 43087734 43087734 17645678 39501014 10002532 20177486 42966743 43087734 20177486 27167041 12993305 42966743 46887186 46887186 10002532 5854637 20177486 13550209 36494385 20177486 13821140 36494385 13550209 19945716 17645678 1448087 32790184 1448087 17645678 46887186 9146282 4794898 4794898 41748546 20177486 41748546 40283795 4794898 1406546 3663245 40283795 28006695 3663245 41748546 1406546 20177486 40283795 28006695 22168417 34695713 40283795 20177486\n"
          ],
          "name": "stdout"
        }
      ]
    },
    {
      "cell_type": "code",
      "metadata": {
        "id": "K-DCcB1tCIF3",
        "colab_type": "code",
        "outputId": "09c935ac-e4d4-4e48-cfbc-d0ad2a76f3d2",
        "colab": {
          "base_uri": "https://localhost:8080/",
          "height": 34
        }
      },
      "source": [
        "# 公開鍵で復号するとメッセージが読める\n",
        "decoded_message = encode(encoded_message,e,n)\n",
        "print(''.join(list(map(chr,decoded_message))))"
      ],
      "execution_count": 37,
      "outputs": [
        {
          "output_type": "stream",
          "text": [
            "This messsage is written by myblackcat7112 2019.08.29 08:50 \n"
          ],
          "name": "stdout"
        }
      ]
    },
    {
      "cell_type": "code",
      "metadata": {
        "id": "JIskbs2XEEVi",
        "colab_type": "code",
        "outputId": "55d03ae6-915d-4f14-b0f9-2ab433e405ef",
        "colab": {
          "base_uri": "https://localhost:8080/",
          "height": 34
        }
      },
      "source": [
        "e,n"
      ],
      "execution_count": 34,
      "outputs": [
        {
          "output_type": "execute_result",
          "data": {
            "text/plain": [
              "(65537, 51271247)"
            ]
          },
          "metadata": {
            "tags": []
          },
          "execution_count": 34
        }
      ]
    },
    {
      "cell_type": "code",
      "metadata": {
        "id": "6zVs0Ac5O0wj",
        "colab_type": "code",
        "outputId": "4393a229-062c-4518-c6e3-62b1355eeba7",
        "colab": {
          "base_uri": "https://localhost:8080/",
          "height": 185
        }
      },
      "source": [
        "# せっかくなので、base64に変換して、それっぽくする\n",
        "str_message = ' '.join(map(str,encoded_message)).encode('utf-8')\n",
        "base64_coded = base64.b64encode(str_message)\n",
        "v_ = ''\n",
        "v__ = []\n",
        "for v in base64_coded:\n",
        "  if (len(v_)==76):\n",
        "    v__.append(v_)\n",
        "    v_ =''\n",
        "  v_ += chr(v)\n",
        "v__.append(v_)\n",
        "for v in v__:\n",
        "  print(v)"
      ],
      "execution_count": 35,
      "outputs": [
        {
          "output_type": "stream",
          "text": [
            "NDUxOTY1ODYgNTg5MTMxNyA0Mjk2Njc0MyA0MzA4NzczNCAyMDE3NzQ4NiAxMzgyMTE0MCAxMDAw\n",
            "MjUzMiA0MzA4NzczNCA0MzA4NzczNCA0MzA4NzczNCAxNzY0NTY3OCAzOTUwMTAxNCAxMDAwMjUz\n",
            "MiAyMDE3NzQ4NiA0Mjk2Njc0MyA0MzA4NzczNCAyMDE3NzQ4NiAyNzE2NzA0MSAxMjk5MzMwNSA0\n",
            "Mjk2Njc0MyA0Njg4NzE4NiA0Njg4NzE4NiAxMDAwMjUzMiA1ODU0NjM3IDIwMTc3NDg2IDEzNTUw\n",
            "MjA5IDM2NDk0Mzg1IDIwMTc3NDg2IDEzODIxMTQwIDM2NDk0Mzg1IDEzNTUwMjA5IDE5OTQ1NzE2\n",
            "IDE3NjQ1Njc4IDE0NDgwODcgMzI3OTAxODQgMTQ0ODA4NyAxNzY0NTY3OCA0Njg4NzE4NiA5MTQ2\n",
            "MjgyIDQ3OTQ4OTggNDc5NDg5OCA0MTc0ODU0NiAyMDE3NzQ4NiA0MTc0ODU0NiA0MDI4Mzc5NSA0\n",
            "Nzk0ODk4IDE0MDY1NDYgMzY2MzI0NSA0MDI4Mzc5NSAyODAwNjY5NSAzNjYzMjQ1IDQxNzQ4NTQ2\n",
            "IDE0MDY1NDYgMjAxNzc0ODYgNDAyODM3OTUgMjgwMDY2OTUgMjIxNjg0MTcgMzQ2OTU3MTMgNDAy\n",
            "ODM3OTUgMjAxNzc0ODY=\n"
          ],
          "name": "stdout"
        }
      ]
    },
    {
      "cell_type": "code",
      "metadata": {
        "id": "6IepI39DbVna",
        "colab_type": "code",
        "outputId": "ffbcdc91-bf56-4285-e17a-a4fa500a6d10",
        "colab": {
          "base_uri": "https://localhost:8080/",
          "height": 218
        }
      },
      "source": [
        "# base64をdecodeしてから、デジタル署名メッセージが復元されることを確認\n",
        "sign_message=''.join(v__)\n",
        "for v in v__:\n",
        "  print(v)\n",
        "base64_decoded_codes = map(int,base64.b64decode(sign_message).decode('utf-8').split(' '))\n",
        "# メッセージと公開鍵さえあれば、復元できる！\n",
        "#e,n = 65537, 2341789\n",
        "print(base64_decoded_codes)\n",
        "''.join(map(chr,encode(base64_decoded_codes,e,n)))"
      ],
      "execution_count": 36,
      "outputs": [
        {
          "output_type": "stream",
          "text": [
            "NDUxOTY1ODYgNTg5MTMxNyA0Mjk2Njc0MyA0MzA4NzczNCAyMDE3NzQ4NiAxMzgyMTE0MCAxMDAw\n",
            "MjUzMiA0MzA4NzczNCA0MzA4NzczNCA0MzA4NzczNCAxNzY0NTY3OCAzOTUwMTAxNCAxMDAwMjUz\n",
            "MiAyMDE3NzQ4NiA0Mjk2Njc0MyA0MzA4NzczNCAyMDE3NzQ4NiAyNzE2NzA0MSAxMjk5MzMwNSA0\n",
            "Mjk2Njc0MyA0Njg4NzE4NiA0Njg4NzE4NiAxMDAwMjUzMiA1ODU0NjM3IDIwMTc3NDg2IDEzNTUw\n",
            "MjA5IDM2NDk0Mzg1IDIwMTc3NDg2IDEzODIxMTQwIDM2NDk0Mzg1IDEzNTUwMjA5IDE5OTQ1NzE2\n",
            "IDE3NjQ1Njc4IDE0NDgwODcgMzI3OTAxODQgMTQ0ODA4NyAxNzY0NTY3OCA0Njg4NzE4NiA5MTQ2\n",
            "MjgyIDQ3OTQ4OTggNDc5NDg5OCA0MTc0ODU0NiAyMDE3NzQ4NiA0MTc0ODU0NiA0MDI4Mzc5NSA0\n",
            "Nzk0ODk4IDE0MDY1NDYgMzY2MzI0NSA0MDI4Mzc5NSAyODAwNjY5NSAzNjYzMjQ1IDQxNzQ4NTQ2\n",
            "IDE0MDY1NDYgMjAxNzc0ODYgNDAyODM3OTUgMjgwMDY2OTUgMjIxNjg0MTcgMzQ2OTU3MTMgNDAy\n",
            "ODM3OTUgMjAxNzc0ODY=\n",
            "<map object at 0x7faed2602828>\n"
          ],
          "name": "stdout"
        },
        {
          "output_type": "execute_result",
          "data": {
            "text/plain": [
              "'This messsage is written by myblackcat7112 2019.08.29 08:50 '"
            ]
          },
          "metadata": {
            "tags": []
          },
          "execution_count": 36
        }
      ]
    }
  ]
}